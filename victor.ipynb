{
 "cells": [
  {
   "cell_type": "markdown",
   "metadata": {},
   "source": [
    "Throughout the assignment we will define $x:=x_1$, $y:=x_2$, and $\\bold x:=[x,y]^T$ to make the assignment concistent as subscripts can not be used when defining variables in SymPy"
   ]
  },
  {
   "cell_type": "markdown",
   "metadata": {},
   "source": [
    "The Rosenbrock function is defined as \n",
    "$$\n",
    "f(\\bold x) = 100(y-x^2)^2+(1-x)^2\n",
    "$$"
   ]
  },
  {
   "cell_type": "markdown",
   "metadata": {},
   "source": [
    "# 1"
   ]
  },
  {
   "cell_type": "markdown",
   "metadata": {},
   "source": [
    "To compute the gradient, we compute the partial derivatives for *f* w.r.t. *x* and *y*.\n",
    "$$\n",
    "\\frac{d}{dx}f(\\bold x)=2\\cdot 100(y-x^2)\\cdot (-2x)+2(1-x)\\cdot (-1)=-400x(y-x^2)-2(1-x)\n",
    "$$\n",
    "$$\n",
    "\\frac{d}{dx}f(\\bold y)= 2\\cdot 100(y-x^2)\\cdot=200(y-x^2)\n",
    "$$"
   ]
  },
  {
   "cell_type": "markdown",
   "metadata": {},
   "source": [
    "We now have all we need to construct the gradient\n",
    "$$\n",
    "\\nabla f(\\bold x)=\\begin{bmatrix}\\frac{d}{dx}f(\\bold x) \\\\ \\frac{d}{dy}f(\\bold x)\\end{bmatrix} = \\begin{bmatrix} -400x(y-x^2)-2(1-x)\\\\200(y-x^2)\\end{bmatrix}\n",
    "$$"
   ]
  },
  {
   "cell_type": "markdown",
   "metadata": {},
   "source": [
    "The Hessian contains the second order derivatives\n",
    "$$\n",
    "H = \\begin{bmatrix}\\frac{d}{dx^2}f(\\bold x) & \\frac{d}{dxdy}f(\\bold x)\\\\\n",
    "\\frac{d}{dydx}f(\\bold x) & \\frac{d}{dy^2}f(\\bold x)\\end{bmatrix}"
   ]
  },
  {
   "cell_type": "markdown",
   "metadata": {},
   "source": [
    "$$\\frac{d}{dx^2}f(\\bold x)=-400(y-x^2)-400x\\cdot (-2x)+2=-400(y-x^2)+800x^2+2=1200x^2-400y+2$$\n",
    "$$\\frac{d}{dy^2}f(\\bold x)=200$$"
   ]
  },
  {
   "cell_type": "markdown",
   "metadata": {},
   "source": [
    "Luckily, the Hessian is symmetric so we only need to calculate one of the mixed derivatives."
   ]
  },
  {
   "cell_type": "markdown",
   "metadata": {},
   "source": [
    "$$\\frac{d}{dxdy}f(\\bold x)=-400x$$"
   ]
  },
  {
   "cell_type": "markdown",
   "metadata": {},
   "source": [
    "We can now state the Hessian\n",
    "$$\n",
    "H = \\begin{bmatrix}1200x^2-400y+2 & -400x\\\\\n",
    "-400x & 200\n",
    "\\end{bmatrix}\n",
    "$$"
   ]
  },
  {
   "cell_type": "markdown",
   "metadata": {},
   "source": [
    "# 2"
   ]
  },
  {
   "cell_type": "markdown",
   "metadata": {},
   "source": [
    "To ensure that $x^*=[1,1]^T$ "
   ]
  }
 ],
 "metadata": {
  "language_info": {
   "name": "python"
  },
  "orig_nbformat": 4
 },
 "nbformat": 4,
 "nbformat_minor": 2
}
