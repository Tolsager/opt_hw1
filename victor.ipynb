{
 "cells": [
  {
   "cell_type": "code",
   "execution_count": 12,
   "metadata": {},
   "outputs": [],
   "source": [
    "import sympy as sp\n",
    "import numpy as np\n",
    "sp.init_printing(use_latex=True)"
   ]
  },
  {
   "cell_type": "markdown",
   "metadata": {},
   "source": [
    "Throughout the assignment we will define $x:=x_1$, $y:=x_2$, and $\\bold x:=[x,y]^T$ to make the assignment concistent as subscripts can not be used when defining variables in SymPy"
   ]
  },
  {
   "cell_type": "markdown",
   "metadata": {},
   "source": [
    "The Rosenbrock function is defined as \n",
    "$$\n",
    "f(\\bold x) = 100(y-x^2)^2+(1-x)^2\n",
    "$$"
   ]
  },
  {
   "cell_type": "code",
   "execution_count": 8,
   "metadata": {},
   "outputs": [
    {
     "data": {
      "text/latex": [
       "$\\displaystyle \\left[\\begin{matrix}- 400 x \\left(- x^{2} + y\\right) + 2 x - 2\\\\- 200 x^{2} + 200 y\\end{matrix}\\right]$"
      ],
      "text/plain": [
       "⎡        ⎛   2    ⎞          ⎤\n",
       "⎢- 400⋅x⋅⎝- x  + y⎠ + 2⋅x - 2⎥\n",
       "⎢                            ⎥\n",
       "⎢             2              ⎥\n",
       "⎣      - 200⋅x  + 200⋅y      ⎦"
      ]
     },
     "execution_count": 8,
     "metadata": {},
     "output_type": "execute_result"
    }
   ],
   "source": [
    "x, y = sp.symbols(\"x y\")\n",
    "f = 100*(y - x**2)**2 + (1 - x)**2"
   ]
  },
  {
   "cell_type": "markdown",
   "metadata": {},
   "source": [
    "# 1"
   ]
  },
  {
   "cell_type": "code",
   "execution_count": 9,
   "metadata": {},
   "outputs": [
    {
     "data": {
      "text/latex": [
       "$\\displaystyle \\left[\\begin{matrix}- 400 x \\left(- x^{2} + y\\right) + 2 x - 2\\\\- 200 x^{2} + 200 y\\end{matrix}\\right]$"
      ],
      "text/plain": [
       "⎡        ⎛   2    ⎞          ⎤\n",
       "⎢- 400⋅x⋅⎝- x  + y⎠ + 2⋅x - 2⎥\n",
       "⎢                            ⎥\n",
       "⎢             2              ⎥\n",
       "⎣      - 200⋅x  + 200⋅y      ⎦"
      ]
     },
     "execution_count": 9,
     "metadata": {},
     "output_type": "execute_result"
    }
   ],
   "source": [
    "df = sp.Matrix([sp.diff(f, x), sp.diff(f, y)])\n",
    "df"
   ]
  },
  {
   "cell_type": "markdown",
   "metadata": {},
   "source": [
    "To compute the gradient, we compute the partial derivatives for *f* w.r.t. *x* and *y*.\n",
    "$$\n",
    "\\frac{d}{dx}f(\\bold x)=2\\cdot 100(y-x^2)\\cdot (-2x)+2(1-x)\\cdot (-1)=-400x(y-x^2)-2(1-x)\n",
    "$$\n",
    "$$\n",
    "\\frac{d}{dx}f(\\bold y)= 2\\cdot 100(y-x^2)\\cdot=200(y-x^2)\n",
    "$$"
   ]
  },
  {
   "cell_type": "markdown",
   "metadata": {},
   "source": [
    "We now have all we need to construct the gradient\n",
    "$$\n",
    "\\nabla f(\\bold x)=\\begin{bmatrix}\\frac{d}{dx}f(\\bold x) \\\\ \\frac{d}{dy}f(\\bold x)\\end{bmatrix} = \\begin{bmatrix} -400x(y-x^2)-2(1-x)\\\\200(y-x^2)\\end{bmatrix}\n",
    "$$"
   ]
  },
  {
   "cell_type": "markdown",
   "metadata": {},
   "source": [
    "The Hessian contains the second order derivatives\n",
    "$$\n",
    "H = \\begin{bmatrix}\\frac{d}{dx^2}f(\\bold x) & \\frac{d}{dxdy}f(\\bold x)\\\\\n",
    "\\frac{d}{dydx}f(\\bold x) & \\frac{d}{dy^2}f(\\bold x)\\end{bmatrix}"
   ]
  },
  {
   "cell_type": "code",
   "execution_count": 11,
   "metadata": {},
   "outputs": [
    {
     "data": {
      "text/latex": [
       "$\\displaystyle \\left[\\begin{matrix}1200 x^{2} - 400 y + 2 & - 400 x\\\\- 400 x & 200\\end{matrix}\\right]$"
      ],
      "text/plain": [
       "⎡      2                    ⎤\n",
       "⎢1200⋅x  - 400⋅y + 2  -400⋅x⎥\n",
       "⎢                           ⎥\n",
       "⎣      -400⋅x          200  ⎦"
      ]
     },
     "execution_count": 11,
     "metadata": {},
     "output_type": "execute_result"
    }
   ],
   "source": [
    "d2f = sp.Matrix([\n",
    "    [sp.diff(df[0], x), sp.diff(df[0], y)],\n",
    "    [sp.diff(df[1], x), sp.diff(df[1], y)]\n",
    "])\n",
    "d2f"
   ]
  },
  {
   "cell_type": "markdown",
   "metadata": {},
   "source": [
    "$$\\frac{d}{dx^2}f(\\bold x)=-400(y-x^2)-400x\\cdot (-2x)+2=-400(y-x^2)+800x^2+2=1200x^2-400y+2$$\n",
    "$$\\frac{d}{dy^2}f(\\bold x)=200$$"
   ]
  },
  {
   "cell_type": "markdown",
   "metadata": {},
   "source": [
    "Luckily, the Hessian is symmetric so we only need to calculate one of the mixed derivatives."
   ]
  },
  {
   "cell_type": "markdown",
   "metadata": {},
   "source": [
    "$$\\frac{d}{dxdy}f(\\bold x)=-400x$$"
   ]
  },
  {
   "cell_type": "markdown",
   "metadata": {},
   "source": [
    "We can now state the Hessian\n",
    "$$\n",
    "H = \\begin{bmatrix}1200x^2-400y+2 & -400x\\\\\n",
    "-400x & 200\n",
    "\\end{bmatrix}\n",
    "$$"
   ]
  },
  {
   "cell_type": "markdown",
   "metadata": {},
   "source": [
    "# 2"
   ]
  },
  {
   "cell_type": "markdown",
   "metadata": {},
   "source": [
    "To ensure that $x^*=[1,1]^T$ is the only local minimizer, we will start by determining all the stationary points, as all local minimizers must satisfy the first-order optimality condition.\n",
    "\n",
    "We thus want to solve the equation\n",
    "$$\n",
    "\\nabla f(\\bold x)= \\begin{bmatrix} -400x(y-x^2)-2(1-x)\\\\200(y-x^2)\\end{bmatrix} = 0\n",
    "$$"
   ]
  },
  {
   "cell_type": "markdown",
   "metadata": {},
   "source": [
    "Looking at the second equation $200(y-x^2)=0$ we see that this equation only holds when $y=x^2$.\n",
    "\n",
    "By inserting this requirements into the other equation, we can greatly simplify it\n",
    "$$-400x(x^2-x^2)-2(1-x)=0\\Leftrightarrow$$\n",
    "$$-2+2x=0\\Leftrightarrow$$\n",
    "$$x=1$$"
   ]
  },
  {
   "cell_type": "markdown",
   "metadata": {},
   "source": [
    "Since we know that $y=x^2$ we have that $y=1$.\n",
    "\n",
    "We now know that the function only has one stationary point $(1,1)$"
   ]
  },
  {
   "cell_type": "markdown",
   "metadata": {},
   "source": [
    "Let's now insert the stationary point into the Hessian to determine if it's a minimizer or maximizer\n",
    "$$H([1,1]) = \\begin{bmatrix} 1200+400+2 & -400 \\\\ -400 & 200\\end{bmatrix}=\\begin{bmatrix} 1602 & -400 \\\\ -400 & 200\\end{bmatrix}$$"
   ]
  },
  {
   "cell_type": "code",
   "execution_count": 15,
   "metadata": {},
   "outputs": [
    {
     "name": "stdout",
     "output_type": "stream",
     "text": [
      "EigResult(eigenvalues=array([1708.09417047,   93.90582953]), eigenvectors=array([[ 0.96657849,  0.25637086],\n",
      "       [-0.25637086,  0.96657849]]))\n"
     ]
    }
   ],
   "source": [
    "eigs = np.linalg.eig(np.array([[1602, -400], [-400, 200]]))\n",
    "print(eigs)"
   ]
  },
  {
   "cell_type": "markdown",
   "metadata": {},
   "source": [
    "Since the eigenvalues are positive, (1,1) is a local minimizer"
   ]
  }
 ],
 "metadata": {
  "kernelspec": {
   "display_name": "opt",
   "language": "python",
   "name": "python3"
  },
  "language_info": {
   "codemirror_mode": {
    "name": "ipython",
    "version": 3
   },
   "file_extension": ".py",
   "mimetype": "text/x-python",
   "name": "python",
   "nbconvert_exporter": "python",
   "pygments_lexer": "ipython3",
   "version": "3.11.4"
  },
  "orig_nbformat": 4
 },
 "nbformat": 4,
 "nbformat_minor": 2
}
