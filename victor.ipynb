{
 "cells": [
  {
   "cell_type": "code",
   "execution_count": 23,
   "metadata": {},
   "outputs": [],
   "source": [
    "import sympy as sp\n",
    "import numpy as np\n",
    "from typing import *\n",
    "import matplotlib.pyplot as plt\n",
    "import time\n",
    "sp.init_printing(use_latex=True)"
   ]
  },
  {
   "cell_type": "markdown",
   "metadata": {},
   "source": [
    "Throughout the assignment we will define $x:=x_1$, $y:=x_2$, and $\\bold x:=[x,y]^T$ to make the assignment concistent as subscripts can not be used when defining variables in SymPy"
   ]
  },
  {
   "cell_type": "markdown",
   "metadata": {},
   "source": [
    "The Rosenbrock function is defined as \n",
    "$$\n",
    "f(\\bold x) = 100(y-x^2)^2+(1-x)^2\n",
    "$$"
   ]
  },
  {
   "cell_type": "code",
   "execution_count": 24,
   "metadata": {},
   "outputs": [],
   "source": [
    "x, y = sp.symbols(\"x y\")\n",
    "f = 100*(y - x**2)**2 + (1 - x)**2"
   ]
  },
  {
   "cell_type": "markdown",
   "metadata": {},
   "source": [
    "# 1"
   ]
  },
  {
   "cell_type": "code",
   "execution_count": 25,
   "metadata": {},
   "outputs": [
    {
     "data": {
      "text/latex": [
       "$\\displaystyle \\left[\\begin{matrix}- 400 x \\left(- x^{2} + y\\right) + 2 x - 2\\\\- 200 x^{2} + 200 y\\end{matrix}\\right]$"
      ],
      "text/plain": [
       "⎡        ⎛   2    ⎞          ⎤\n",
       "⎢- 400⋅x⋅⎝- x  + y⎠ + 2⋅x - 2⎥\n",
       "⎢                            ⎥\n",
       "⎢             2              ⎥\n",
       "⎣      - 200⋅x  + 200⋅y      ⎦"
      ]
     },
     "execution_count": 25,
     "metadata": {},
     "output_type": "execute_result"
    }
   ],
   "source": [
    "df = sp.Matrix([sp.diff(f, x), sp.diff(f, y)])\n",
    "df"
   ]
  },
  {
   "cell_type": "markdown",
   "metadata": {},
   "source": [
    "To compute the gradient, we compute the partial derivatives for *f* w.r.t. *x* and *y*.\n",
    "$$\n",
    "\\frac{d}{dx}f(\\bold x)=2\\cdot 100(y-x^2)\\cdot (-2x)+2(1-x)\\cdot (-1)=-400x(y-x^2)-2(1-x)\n",
    "$$\n",
    "$$\n",
    "\\frac{d}{dx}f(\\bold y)= 2\\cdot 100(y-x^2)\\cdot=200(y-x^2)\n",
    "$$"
   ]
  },
  {
   "cell_type": "markdown",
   "metadata": {},
   "source": [
    "We now have all we need to construct the gradient\n",
    "$$\n",
    "\\nabla f(\\bold x)=\\begin{bmatrix}\\frac{d}{dx}f(\\bold x) \\\\ \\frac{d}{dy}f(\\bold x)\\end{bmatrix} = \\begin{bmatrix} -400x(y-x^2)-2(1-x)\\\\200(y-x^2)\\end{bmatrix}\n",
    "$$"
   ]
  },
  {
   "cell_type": "markdown",
   "metadata": {},
   "source": [
    "The Hessian contains the second order derivatives\n",
    "$$\n",
    "H = \\begin{bmatrix}\\frac{d}{dx^2}f(\\bold x) & \\frac{d}{dxdy}f(\\bold x)\\\\\n",
    "\\frac{d}{dydx}f(\\bold x) & \\frac{d}{dy^2}f(\\bold x)\\end{bmatrix}"
   ]
  },
  {
   "cell_type": "code",
   "execution_count": 26,
   "metadata": {},
   "outputs": [
    {
     "data": {
      "text/latex": [
       "$\\displaystyle \\left[\\begin{matrix}1200 x^{2} - 400 y + 2 & - 400 x\\\\- 400 x & 200\\end{matrix}\\right]$"
      ],
      "text/plain": [
       "⎡      2                    ⎤\n",
       "⎢1200⋅x  - 400⋅y + 2  -400⋅x⎥\n",
       "⎢                           ⎥\n",
       "⎣      -400⋅x          200  ⎦"
      ]
     },
     "execution_count": 26,
     "metadata": {},
     "output_type": "execute_result"
    }
   ],
   "source": [
    "d2f = sp.Matrix([\n",
    "    [sp.diff(df[0], x), sp.diff(df[0], y)],\n",
    "    [sp.diff(df[1], x), sp.diff(df[1], y)]\n",
    "])\n",
    "d2f"
   ]
  },
  {
   "cell_type": "code",
   "execution_count": 29,
   "metadata": {},
   "outputs": [
    {
     "data": {
      "image/png": "[encoded data removed]",
      "text/latex": [
       "$\\displaystyle \\left\\{ 501 - \\sqrt{250601} : 1, \\  \\sqrt{250601} + 501 : 1\\right\\}$"
      ],
      "text/plain": [
       "{501 - √250601: 1, √250601 + 501: 1}"
      ]
     },
     "execution_count": 29,
     "metadata": {},
     "output_type": "execute_result"
    }
   ],
   "source": [
    "h11 = d2f.subs([(x, 1), (y, 1)])\n",
    "h11.eigenvals()"
   ]
  },
  {
   "cell_type": "code",
   "execution_count": 30,
   "metadata": {},
   "outputs": [
    {
     "data": {
      "image/png": "[encoded data removed]",
      "text/latex": [
       "$\\displaystyle 500.600639232512$"
      ],
      "text/plain": [
       "500.6006392325124"
      ]
     },
     "execution_count": 30,
     "metadata": {},
     "output_type": "execute_result"
    }
   ],
   "source": [
    "math.sqrt(250601)"
   ]
  },
  {
   "cell_type": "code",
   "execution_count": 5,
   "metadata": {},
   "outputs": [
    {
     "data": {
      "image/png": "[encoded data removed]",
      "text/latex": [
       "$\\displaystyle \\left\\{ 600 x^{2} - 200 y - \\sqrt{360000 x^{4} - 240000 x^{2} y + 41200 x^{2} + 40000 y^{2} + 39600 y + 9801} + 101 : 1, \\  600 x^{2} - 200 y + \\sqrt{360000 x^{4} - 240000 x^{2} y + 41200 x^{2} + 40000 y^{2} + 39600 y + 9801} + 101 : 1\\right\\}$"
      ],
      "text/plain": [
       "⎧                    _________________________________________________________\n",
       "⎨     2             ╱         4           2            2          2           \n",
       "⎩600⋅x  - 200⋅y - ╲╱  360000⋅x  - 240000⋅x ⋅y + 41200⋅x  + 40000⋅y  + 39600⋅y \n",
       "\n",
       "_______                               ________________________________________\n",
       "                       2             ╱         4           2            2     \n",
       "+ 9801  + 101: 1, 600⋅x  - 200⋅y + ╲╱  360000⋅x  - 240000⋅x ⋅y + 41200⋅x  + 40\n",
       "\n",
       "________________________         ⎫\n",
       "     2                           ⎬\n",
       "000⋅y  + 39600⋅y + 9801  + 101: 1⎭"
      ]
     },
     "execution_count": 5,
     "metadata": {},
     "output_type": "execute_result"
    }
   ],
   "source": [
    "d2f.eigenvals()"
   ]
  },
  {
   "cell_type": "code",
   "execution_count": null,
   "metadata": {},
   "outputs": [],
   "source": [
    "sp.solve(-200*y-)"
   ]
  },
  {
   "cell_type": "markdown",
   "metadata": {},
   "source": [
    "$$\\frac{d}{dx^2}f(\\bold x)=-400(y-x^2)-400x\\cdot (-2x)+2=-400(y-x^2)+800x^2+2=1200x^2-400y+2$$\n",
    "$$\\frac{d}{dy^2}f(\\bold x)=200$$"
   ]
  },
  {
   "cell_type": "markdown",
   "metadata": {},
   "source": [
    "Luckily, the Hessian is symmetric so we only need to calculate one of the mixed derivatives."
   ]
  },
  {
   "cell_type": "markdown",
   "metadata": {},
   "source": [
    "$$\\frac{d}{dxdy}f(\\bold x)=-400x$$"
   ]
  },
  {
   "cell_type": "markdown",
   "metadata": {},
   "source": [
    "We can now state the Hessian\n",
    "$$\n",
    "H = \\begin{bmatrix}1200x^2-400y+2 & -400x\\\\\n",
    "-400x & 200\n",
    "\\end{bmatrix}\n",
    "$$"
   ]
  },
  {
   "cell_type": "markdown",
   "metadata": {},
   "source": [
    "# 2"
   ]
  },
  {
   "cell_type": "markdown",
   "metadata": {},
   "source": [
    "To ensure that $x^*=[1,1]^T$ is the only local minimizer, we will start by determining all the stationary points, as all local minimizers must satisfy the first-order optimality condition.\n",
    "\n",
    "We thus want to solve the equation\n",
    "$$\n",
    "\\nabla f(\\bold x)= \\begin{bmatrix} -400x(y-x^2)-2(1-x)\\\\200(y-x^2)\\end{bmatrix} = 0\n",
    "$$"
   ]
  },
  {
   "cell_type": "markdown",
   "metadata": {},
   "source": [
    "Looking at the second equation $200(y-x^2)=0$ we see that this equation only holds when $y=x^2$.\n",
    "\n",
    "By inserting this requirements into the other equation, we can greatly simplify it\n",
    "$$-400x(x^2-x^2)-2(1-x)=0\\Leftrightarrow$$\n",
    "$$-2+2x=0\\Leftrightarrow$$\n",
    "$$x=1$$"
   ]
  },
  {
   "cell_type": "markdown",
   "metadata": {},
   "source": [
    "Since we know that $y=x^2$ we have that $y=1$.\n",
    "\n",
    "We now know that the function only has one stationary point $(1,1)$"
   ]
  },
  {
   "cell_type": "markdown",
   "metadata": {},
   "source": [
    "Let's now insert the stationary point into the Hessian to determine if it's a minimizer or maximizer\n",
    "$$H([1,1]) = \\begin{bmatrix} 1200+400+2 & -400 \\\\ -400 & 200\\end{bmatrix}=\\begin{bmatrix} 1602 & -400 \\\\ -400 & 200\\end{bmatrix}$$"
   ]
  },
  {
   "cell_type": "code",
   "execution_count": 15,
   "metadata": {},
   "outputs": [
    {
     "name": "stdout",
     "output_type": "stream",
     "text": [
      "EigResult(eigenvalues=array([1708.09417047,   93.90582953]), eigenvectors=array([[ 0.96657849,  0.25637086],\n",
      "       [-0.25637086,  0.96657849]]))\n"
     ]
    }
   ],
   "source": [
    "eigs = np.linalg.eig(np.array([[1602, -400], [-400, 200]]))\n",
    "print(eigs)"
   ]
  },
  {
   "cell_type": "markdown",
   "metadata": {},
   "source": [
    "Since the eigenvalues are positive, (1,1) is a local minimizer"
   ]
  },
  {
   "cell_type": "markdown",
   "metadata": {},
   "source": [
    "# 7"
   ]
  },
  {
   "cell_type": "markdown",
   "metadata": {},
   "source": [
    "## a"
   ]
  },
  {
   "cell_type": "code",
   "execution_count": 6,
   "metadata": {},
   "outputs": [],
   "source": [
    "def get_errors(xs):\n",
    "    x_star = np.array([1, 1])\n",
    "    return [np.linalg.norm(v - x_star, 2) for v in xs]"
   ]
  },
  {
   "cell_type": "code",
   "execution_count": 7,
   "metadata": {},
   "outputs": [],
   "source": [
    "def plot_opt_stats(fs, k, x0, errors, f_title, e_title):\n",
    "    fig, axes = plt.subplots(1, 2, figsize=(12,4))\n",
    "\n",
    "    axes[0].semilogy(range(k+1), fs)\n",
    "    axes[0].set_title(f_title)\n",
    "    axes[0].set_ylabel(\"$f(x)$\")\n",
    "    axes[0].set_xlabel(\"Iterations\")\n",
    " \n",
    "    axes[1].semilogy(range(k+1), errors)\n",
    "    axes[1].set_title(e_title)\n",
    "    axes[1].set_ylabel(\"$e_k$\")\n",
    "    axes[1].set_xlabel(\"Iterations\")\n",
    "    axes[1].set_yscale(\"log\")\n",
    "    plt.show()\n"
   ]
  },
  {
   "cell_type": "code",
   "execution_count": 5,
   "metadata": {},
   "outputs": [],
   "source": [
    "def plot_iterations_on_contour(xs, fs, f, padding=2):\n",
    "    n_points = 200\n",
    "    min_x = min(xs, key=lambda x: x[0]) - padding\n",
    "    max_x = max(xs, key=lambda x: x[0]) + padding\n",
    "    min_y = min(xs, key=lambda x: x[1]) - padding\n",
    "    max_y = max(xs, key=lambda x: x[1]) + padding\n",
    "    xs_c = np.linspace(min_x, max_x, n_points)\n",
    "    ys_c = np.linspace(min_y, max_y, n_points)\n",
    "\n",
    "    xv, yv = np.meshgrid(xs_c, ys_c)\n",
    "    fs_c = f(xv, yv)\n",
    "    # for i in range(n_points):\n",
    "    #     for j in range(n_points):\n",
    "    #         fs_c[i, j] = f(xv[i, j], yv[i, j])\n",
    "    \n",
    "    plt.contourf(xv, yv, fs_c)\n",
    "\n",
    "    \n",
    "\n",
    "    # plt.plot(xs, fs)\n",
    "\n"
   ]
  },
  {
   "cell_type": "code",
   "execution_count": 8,
   "metadata": {},
   "outputs": [],
   "source": [
    "def steepest_descent(f: sp.Expr, vars: list[sp.Symbol], x0: np.ndarray, alpha: float=1, max_iter: int = 2000, tol: float=10e-10):\n",
    "    t0 = time.time()\n",
    "    if x0.ndim == 2:\n",
    "        x0 = x0.squeeze()\n",
    "    df = sp.Matrix([sp.diff(f, v) for v in vars])\n",
    "\n",
    "    f = sp.lambdify(vars, f)\n",
    "    df = sp.lambdify(vars, df)\n",
    "\n",
    "    xs = [x0]\n",
    "    fs = [f(*x0)]\n",
    "\n",
    "    x = x0\n",
    "    \n",
    "    k = 0\n",
    "    while (k < max_iter) and (np.linalg.norm(df(*x), np.inf) >= tol):\n",
    "        x = x.copy()\n",
    "        grad = -df(*x)\n",
    "        p = grad / np.linalg.norm(grad)\n",
    "        p = p.squeeze()\n",
    "        \n",
    "        x += alpha*p\n",
    "\n",
    "        xs.append(x)\n",
    "        fs.append(f(*x))\n",
    "\n",
    "        k += 1\n",
    "    \n",
    "    converged = False\n",
    "    if k < max_iter:\n",
    "        converged = True\n",
    "\n",
    "    \n",
    "    t1 = time.time()\n",
    "    total_time = t1 - t0\n",
    "\n",
    "    return xs, fs, k, total_time, converged"
   ]
  },
  {
   "cell_type": "code",
   "execution_count": 14,
   "metadata": {},
   "outputs": [
    {
     "name": "stdout",
     "output_type": "stream",
     "text": [
      "False\n"
     ]
    },
    {
     "data": {
      "image/png": "[encoded data removed]",
      "text/plain": [
       "<Figure size 1200x400 with 2 Axes>"
      ]
     },
     "metadata": {},
     "output_type": "display_data"
    }
   ],
   "source": [
    "x0 = np.array([1.2, 1.2])\n",
    "xs, fs, k, total_time, converged = steepest_descent(f, [x, y], x0, alpha=0.00001)\n",
    "errors = get_errors(xs)\n",
    "print(converged)\n",
    "plot_opt_stats(fs, k, x0, errors, \"SD\", \"SD\")"
   ]
  },
  {
   "cell_type": "markdown",
   "metadata": {},
   "source": [
    "## c"
   ]
  },
  {
   "cell_type": "code",
   "execution_count": 15,
   "metadata": {},
   "outputs": [],
   "source": [
    "def newtons_method(f: sp.Expr, vars: list[sp.Symbol], x0: np.ndarray, alpha: float=1, max_iter: int = 2000, tol: float=10e-10):\n",
    "    t0 = time.time()\n",
    "    if x0.ndim == 2:\n",
    "        x0 = x0.squeeze()\n",
    "    df = sp.Matrix([sp.diff(f, v) for v in vars])\n",
    "    d2f = sp.Matrix([[sp.diff(expr, v) for v in vars] for expr in df])\n",
    "\n",
    "    f = sp.lambdify(vars, f)\n",
    "    df = sp.lambdify(vars, df)\n",
    "    d2f = sp.lambdify(vars, d2f)\n",
    "\n",
    "    xs = [x0]\n",
    "    fs = [f(*x0)]\n",
    "\n",
    "    x = x0\n",
    "    \n",
    "    k = 0\n",
    "    while (k < max_iter) and (np.linalg.norm(df(*x), np.inf) >= tol):\n",
    "        x = x.copy()\n",
    "        p = -np.linalg.pinv(d2f(*x)) @ df(*x)\n",
    "        p = p.squeeze()\n",
    "        # print(f\"x: {x}\")\n",
    "        # print(f\"p: {p}\")\n",
    "        \n",
    "        x += alpha*p\n",
    "        # print(f\"new x: {x}\")\n",
    "\n",
    "        xs.append(x)\n",
    "        fs.append(f(*x))\n",
    "\n",
    "        k += 1\n",
    "        # print(np.linalg.norm(x, np.inf))\n",
    "        # if k > 5:\n",
    "        #     break\n",
    "    \n",
    "    converged = False\n",
    "    if k < max_iter:\n",
    "        converged = True\n",
    "\n",
    "    \n",
    "    t1 = time.time()\n",
    "    total_time = t1 - t0\n",
    "\n",
    "    return xs, fs, k, total_time, converged"
   ]
  },
  {
   "cell_type": "code",
   "execution_count": 31,
   "metadata": {},
   "outputs": [
    {
     "name": "stdout",
     "output_type": "stream",
     "text": [
      "0.0048258304595947266 0.0009651660919189453\n",
      "1.8404048659120467\n"
     ]
    }
   ],
   "source": [
    "import math\n",
    "# x0s = [np.array([1.2, 1.2]), np.array([-1.2, 1])]\n",
    "# x_star = np.array([[1],[1]])\n",
    "# for x0 in x0s:\n",
    "#     xs, fs, k, t, c = newtons_method(f, [x, y], x0)\n",
    "#     print(k)\n",
    "#     print(t, t/k)\n",
    "\n",
    "#     errors = get_errors(xs)\n",
    "#     # plot_opt_stats(fs ,k, np.array([1,1]), errors)\n",
    "x0 = np.array([1.2, 1.2])\n",
    "x_star = np.array([[1],[1]])\n",
    "xs, fs, k, t, c = newtons_method(f, [x, y], x0)\n",
    "# print(k)\n",
    "print(t, t/k)\n",
    "errors = get_errors(xs)\n",
    "print(math.log(errors[-1] / errors[-2]) / math.log(errors[-2] / errors[-3]))\n",
    "\n",
    "# plot_opt_stats(fs ,k, np.array([1,1]), errors)"
   ]
  }
 ],
 "metadata": {
  "kernelspec": {
   "display_name": "opt",
   "language": "python",
   "name": "python3"
  },
  "language_info": {
   "codemirror_mode": {
    "name": "ipython",
    "version": 3
   },
   "file_extension": ".py",
   "mimetype": "text/x-python",
   "name": "python",
   "nbconvert_exporter": "python",
   "pygments_lexer": "ipython3",
   "version": "3.11.5"
  },
  "orig_nbformat": 4
 },
 "nbformat": 4,
 "nbformat_minor": 2
}
